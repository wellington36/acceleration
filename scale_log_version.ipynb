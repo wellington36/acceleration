{
 "cells": [
  {
   "cell_type": "code",
   "execution_count": 76,
   "metadata": {},
   "outputs": [],
   "source": [
    "import math\n",
    "import numpy as np\n",
    "from scipy.special import logsumexp\n",
    "import matplotlib.pyplot as plt\n",
    "import time\n",
    "\n",
    "DT = np.dtype('float128') # numpy precision\n",
    "\n",
    "# SET zeta(1.2), PI, log 2, limit of slow series VALUE APPROXIMATION (~100)\n",
    "Z = 5.591582441177750776536563193423143277629903241802331099473728250024897906802651077991103320801610144\n",
    "PI = 3.141592653589793238462643383279502884197169399375105820974944592307816406286208998628034825342117067\n",
    "L2 = 0.693147180559945309417232121458176568075500134360255254120680009493393621969694715605863326996418687\n",
    "C1 = 2.10974280123689197447\n",
    "\n",
    "constants = np.array([Z, PI, L2, C1], dtype=DT)"
   ]
  },
  {
   "cell_type": "code",
   "execution_count": 77,
   "metadata": {},
   "outputs": [],
   "source": [
    "def no_transform(items: np.ndarray, max_steps=10) -> np.ndarray:\n",
    "    return items\n",
    "\n",
    "def Aitken_transform(items: np.ndarray, max_steps=10) -> np.ndarray:\n",
    "    steps = min(int((len(items) - 1) / 2) - 1, max_steps)\n",
    "    \n",
    "    for _ in range(steps):\n",
    "        acel = np.zeros(len(items) - 2, dtype=DT)\n",
    "\n",
    "        for i in range(0, len(items) - 2):\n",
    "            acel[i] = (items[i] * items[i+2] - items[i+1]**2) / \\\n",
    "                (items[i+2] - 2 * items[i+1] + items[i])\n",
    "\n",
    "        items = acel\n",
    "\n",
    "        if len(acel) < 3:\n",
    "            return acel\n",
    "    \n",
    "    return acel\n",
    "def Richardson_transform(items: np.ndarray, p=1, max_steps=10) -> np.ndarray:\n",
    "    \"\"\"Receive a p that represents the power of the Richardson transform\"\"\"\n",
    "    steps = min(int(math.log2(len(items))) - 2, max_steps)\n",
    "    \n",
    "    for _ in range(steps):\n",
    "        acel = np.zeros(int(len(items)/2), dtype=DT)\n",
    "\n",
    "        for i in range(0, int(len(items)/2)):\n",
    "            acel[i] = items[2*i] + (items[2*i] - items[i]) / \\\n",
    "                np.expm1(p * math.log(2))\n",
    "\n",
    "        items = acel\n",
    "        p = p + 1\n",
    "    \n",
    "    return acel\n",
    "\n",
    "def Epsilon_transform(items: np.ndarray, max_steps=10) -> np.ndarray:\n",
    "    # Initial values\n",
    "    aux = np.zeros(len(items)+1, dtype=DT)\n",
    "    acel = items\n",
    "    \n",
    "    steps = min(int(len(items) / 3) - 3, max_steps)\n",
    "\n",
    "    for _ in range(steps):\n",
    "        for i in range(0, len(aux) - 3):\n",
    "            aux[i] = acel[i+1] + 1/(acel[i+1] - acel[i])\n",
    "        aux = aux[:-3]\n",
    "\n",
    "        for i in range(0, len(acel) - 3):\n",
    "            acel[i] = acel[i+1] + 1/(aux[i+1] - aux[i])\n",
    "        acel = acel[:-3]\n",
    "    \n",
    "    return acel\n",
    "\n",
    "def G_transform(items: np.ndarray, max_steps=10) -> np.ndarray:\n",
    "    # Initial values\n",
    "    aux1 = np.ones(len(items) + 1, dtype=DT)\n",
    "    aux2 = np.zeros(len(items), dtype=DT)\n",
    "\n",
    "    aux2[0] = items[0]\n",
    "    for i in range(1, len(items)):\n",
    "        aux2[i] = items[i] - items[i-1]\n",
    "    \n",
    "    acel = items\n",
    "\n",
    "    steps = min(int(len(items)/3), max_steps)\n",
    "\n",
    "    for _ in range(steps):\n",
    "        for i in range(len(aux1) - 2):\n",
    "            aux1[i] = aux1[i+1] * (aux2[i+1] / aux2[i] - 1)\n",
    "        aux1 = aux1[:-1]\n",
    "\n",
    "        for i in range(len(aux2) - 2):\n",
    "            aux2[i] = aux2[i+1] * (aux1[i+1] / aux1[i] - 1)\n",
    "        aux2 = aux2[:-1]\n",
    "\n",
    "        for i in range(len(acel) - 2):\n",
    "            acel[i] = acel[i] - aux2[i] * (acel[i+1] - acel[i])/(aux2[i+1] - aux2[i])\n",
    "        acel = acel[:-3]\n",
    "    \n",
    "    return acel"
   ]
  },
  {
   "cell_type": "code",
   "execution_count": 78,
   "metadata": {},
   "outputs": [],
   "source": [
    "def acceleration(series, transform, error=1e-5, max_steps=5) -> np.ndarray:\n",
    "    n0 = 10\n",
    "    n = n0\n",
    "    acel = transform(series(n0))\n",
    "    i = -1  # trash\n",
    "\n",
    "    check = np.array([acel[-1], np.log(constants[1]**2/6)], dtype=DT)\n",
    "    check = np.exp(np.exp(np.sort(check)))\n",
    "\n",
    "    while np.sum(np.array([-1, 1]) @ check) > error: # check error\n",
    "        i = i + 1\n",
    "        n = n0 + 2**i\n",
    "        acel = transform(series(n), max_steps=max_steps)\n",
    "\n",
    "        check = np.array([acel[-1], np.log(constants[1]**2/6)], dtype=DT)\n",
    "        check = np.exp(np.sort(check))\n",
    "    \n",
    "    n0 = n0 + 2**(i-1)\n",
    "\n",
    "    while (n > n0):\n",
    "        acel = transform(series(int((n+n0)/2)), max_steps=max_steps)\n",
    "\n",
    "        check = np.array([acel[-1], np.log(constants[1]**2/6)], dtype=DT)\n",
    "        check = np.exp(np.sort(check))\n",
    "\n",
    "        if np.sum(np.array([-1, 1]) @ check) > error:    # check error\n",
    "            n0 = int((n+n0)/2 + 1)\n",
    "        else:\n",
    "            n = int((n+n0)/2)\n",
    "        \n",
    "    acel = transform(series(n), max_steps=max_steps)\n",
    "\n",
    "    return n, np.exp(acel)"
   ]
  },
  {
   "cell_type": "code",
   "execution_count": 79,
   "metadata": {},
   "outputs": [],
   "source": [
    "def square_series(n: int) -> np.ndarray:\n",
    "    \"\"\"Zeta(2) series, converges to math.pi**2 / 6\"\"\"\n",
    "    series = np.zeros(n, dtype=DT)\n",
    "    series[0] = 1.0\n",
    "\n",
    "    for i in range(1, n):\n",
    "        series[i] =  series[i-1] + 1/(i+1)**(2)\n",
    "    \n",
    "    return np.log(series)"
   ]
  },
  {
   "cell_type": "code",
   "execution_count": 80,
   "metadata": {},
   "outputs": [
    {
     "data": {
      "text/plain": [
       "(44793,\n",
       " array([1.5689838 , 1.58676345, 1.59773891, ..., 1.6449138 , 1.64491995,\n",
       "        1.64492506], dtype=float128))"
      ]
     },
     "execution_count": 80,
     "metadata": {},
     "output_type": "execute_result"
    }
   ],
   "source": [
    "acceleration(square_series, Aitken_transform, error=1e-5, max_steps=2)"
   ]
  },
  {
   "cell_type": "code",
   "execution_count": 81,
   "metadata": {},
   "outputs": [
    {
     "data": {
      "text/plain": [
       "(10000,\n",
       " array([1.        , 1.25      , 1.36111111, ..., 1.64483405, 1.64483406,\n",
       "        1.64483407], dtype=float128))"
      ]
     },
     "execution_count": 81,
     "metadata": {},
     "output_type": "execute_result"
    }
   ],
   "source": [
    "acceleration(square_series, no_transform, error=1e-4, max_steps=2)"
   ]
  },
  {
   "cell_type": "code",
   "execution_count": 82,
   "metadata": {},
   "outputs": [
    {
     "name": "stdout",
     "output_type": "stream",
     "text": [
      "1.6449340668482263082\n",
      "########## 0.0001 ##########\n",
      "no_transform    |   0.21967220306396484 |   1.6448340718480599  |   10000\n",
      "########## 0.0001 ##########\n",
      "Aitken_transform    |   0.4671297073364258 |   1.6448347982322722  |   4968\n",
      "########## 0.0001 ##########\n",
      "Richardson_transform    |   0.0026726722717285156 |   1.6448486698680966  |   52\n",
      "########## 0.0001 ##########\n",
      "Epsilon_transform    |   0.25565505027770996 |   1.6448346205284852  |   2509\n",
      "########## 0.0001 ##########\n"
     ]
    },
    {
     "name": "stderr",
     "output_type": "stream",
     "text": [
      "/tmp/ipykernel_8054/1956262566.py:69: RuntimeWarning: divide by zero encountered in longdouble_scalars\n",
      "  aux1[i] = aux1[i+1] * (aux2[i+1] / aux2[i] - 1)\n"
     ]
    },
    {
     "name": "stdout",
     "output_type": "stream",
     "text": [
      "G_transform    |   1.0994107723236084 |   1.6448344571273386  |   6154\n"
     ]
    },
    {
     "data": {
      "image/png": "[encoded data removed]",
      "text/plain": [
       "<Figure size 640x480 with 1 Axes>"
      ]
     },
     "metadata": {},
     "output_type": "display_data"
    }
   ],
   "source": [
    "e = 1e-4\n",
    "max_steps = 2\n",
    "\n",
    "print(constants[1]**2/6)\n",
    "for t in [no_transform, Aitken_transform, Richardson_transform, Epsilon_transform, G_transform]:\n",
    "        \n",
    "    if t in []:\n",
    "        continue\n",
    "    print(f\"########## {e} ##########\")\n",
    "    t0 = time.time()\n",
    "    n, acel = acceleration(square_series, transform=t, error=e, max_steps=max_steps)\n",
    "    t1 = time.time()\n",
    "\n",
    "    print(f\"{t.__name__}    |   {t1-t0} |   {acel[-1]}  |   {n}\")\n",
    "\n",
    "    plt.plot(range(len(acel))[10:], acel[10:], label=t.__name__)\n",
    "    \n",
    "#true_value = constants[3]\n",
    "#plt.plot(range(len(acel))[30:], [true_value for _ in range(len(acel[30:]))], label=\"True value\")\n",
    "    \n",
    "plt.legend()\n",
    "plt.show()\n"
   ]
  }
 ],
 "metadata": {
  "kernelspec": {
   "display_name": "Python 3.10.10 64-bit",
   "language": "python",
   "name": "python3"
  },
  "language_info": {
   "codemirror_mode": {
    "name": "ipython",
    "version": 3
   },
   "file_extension": ".py",
   "mimetype": "text/x-python",
   "name": "python",
   "nbconvert_exporter": "python",
   "pygments_lexer": "ipython3",
   "version": "3.10.10"
  },
  "orig_nbformat": 4,
  "vscode": {
   "interpreter": {
    "hash": "e7370f93d1d0cde622a1f8e1c04877d8463912d04d973331ad4851f04de6915a"
   }
  }
 },
 "nbformat": 4,
 "nbformat_minor": 2
}
